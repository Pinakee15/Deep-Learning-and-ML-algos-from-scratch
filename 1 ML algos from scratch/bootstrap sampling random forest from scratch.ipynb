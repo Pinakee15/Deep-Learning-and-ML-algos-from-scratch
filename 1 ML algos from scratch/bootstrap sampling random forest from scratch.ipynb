{
 "cells": [
  {
   "cell_type": "code",
   "execution_count": 1,
   "metadata": {},
   "outputs": [],
   "source": [
    "import numpy as np\n",
    "import pandas as pd\n",
    "from sklearn.datasets import load_boston\n",
    "import random\n",
    "from sklearn.tree import DecisionTreeRegressor\n",
    "import scipy.stats as st\n",
    "from prettytable import PrettyTable"
   ]
  },
  {
   "cell_type": "markdown",
   "metadata": {},
   "source": [
    "# ------------------------------------------------------------------------------------------------------------"
   ]
  },
  {
   "cell_type": "markdown",
   "metadata": {},
   "source": [
    "# Task 1"
   ]
  },
  {
   "cell_type": "code",
   "execution_count": 4,
   "metadata": {},
   "outputs": [],
   "source": [
    "a = load_boston()\n",
    "\n",
    "columns = a['feature_names']\n",
    "\n",
    "x = a['data']\n",
    "\n",
    "target = a['target']"
   ]
  },
  {
   "cell_type": "code",
   "execution_count": 12,
   "metadata": {},
   "outputs": [],
   "source": [
    "def compute_mse_and_oob_score():\n",
    "    samples_x = []\n",
    "    all_predicted_y = []\n",
    "\n",
    "    oob_samples = []\n",
    "    oob_predicted = []\n",
    "\n",
    "    for i in range(30):\n",
    "        sample_x = []\n",
    "        sample_target = []\n",
    "        oob_sample = []\n",
    "        oob_target = []\n",
    "\n",
    "        row_indices = random.sample(range(x.shape[0]) , 303)\n",
    "        random_no_of_columns = random.randint(3,13)\n",
    "        column_index = random.sample(range(0,13), random_no_of_columns)\n",
    "        subindices = random.sample(range(len(row_indices)), 203)\n",
    "\n",
    "\n",
    "        \n",
    "        for j in subindices:\n",
    "            row_indices.append(j)\n",
    "\n",
    "        for k in row_indices:\n",
    "            sample_x.append(x[k,column_index])\n",
    "            sample_target.append(target[k])\n",
    "\n",
    "        oob_indices = set([i for i in range(506)]).difference(set(row_indices))\n",
    "\n",
    "        samples_x.append(sample_x)\n",
    "\n",
    "        # ========================================OOB sample=========================================\n",
    "        for k in oob_indices:\n",
    "            oob_sample.append(x[k,column_index])\n",
    "            oob_target.append(target[k])\n",
    "\n",
    "        oob_samples.append(oob_sample)\n",
    "  \n",
    "        #=====================================Model on the samples====================================\n",
    "        model = DecisionTreeRegressor()\n",
    "\n",
    "        model.fit(sample_x , sample_target)  \n",
    "        y_pred = np.array(model.predict(x[:,column_index]))\n",
    "\n",
    "        all_predicted_y.append(y_pred)\n",
    "\n",
    "\n",
    "        #==================================== Model on OOB samples=========================================\n",
    "\n",
    "        model_oob = DecisionTreeRegressor()\n",
    "        model_oob.fit(oob_sample , oob_target)\n",
    "        y_pred_oob = np.array(model_oob.predict(x[:,column_index]))    \n",
    "\n",
    "        oob_predicted.append(y_pred_oob)\n",
    "\n",
    "    #==============================================compute the mse================================================\n",
    "    \n",
    "    final_pred = []\n",
    "    for i in range(506):\n",
    "        summation = 0 \n",
    "        for j in range(30):\n",
    "            summation += all_predicted_y[j][i]\n",
    "        final_pred.append(1/30*summation)\n",
    "        \n",
    "    error = 0\n",
    "    for i in range(506):\n",
    "        error += (final_pred[i] - target[i])**2\n",
    "\n",
    "    mse = 1/506*error    #oob_targets = []\n",
    "    \n",
    "    #============================================compute the oob score===========================================\n",
    "    \n",
    "    final_pred_oob = []\n",
    "    for i in range(506):\n",
    "        summation = 0\n",
    "        for j in range(30):\n",
    "            summation += oob_predicted[j][i]\n",
    "        final_pred_oob.append(1/30*summation)\n",
    "        \n",
    "    error_oob = 0\n",
    "    for i in range(506):\n",
    "        error_oob += (final_pred_oob[i] - target[i])**2\n",
    "\n",
    "    mse_oob = 1/506*error_oob    \n",
    "    \n",
    "    \n",
    "    return mse , mse_oob"
   ]
  },
  {
   "cell_type": "code",
   "execution_count": 13,
   "metadata": {},
   "outputs": [
    {
     "name": "stdout",
     "output_type": "stream",
     "text": [
      "The mean squared error is: 1.6711521734326982\n",
      " The oob score is: 9.479448375359869\n"
     ]
    }
   ],
   "source": [
    "mse , oob_score = compute_mse_and_oob_score()\n",
    "print(\"The mean squared error is: {}\\n The oob score is: {}\".format(mse,oob_score))"
   ]
  },
  {
   "cell_type": "markdown",
   "metadata": {},
   "source": [
    "# Task 2"
   ]
  },
  {
   "cell_type": "code",
   "execution_count": 10,
   "metadata": {},
   "outputs": [],
   "source": [
    "all_mse_scores = []\n",
    "all_oob_scores = []\n",
    "\n",
    "for i in range(30):\n",
    "    mse , mse_oob = compute_mse_and_oob_score()\n",
    "    all_mse_scores.append(mse)\n",
    "    all_oob_scores.append(mse_oob)"
   ]
  },
  {
   "cell_type": "code",
   "execution_count": 184,
   "metadata": {},
   "outputs": [],
   "source": [
    "import seaborn as sns\n",
    "import matplotlib.pyplot as plt"
   ]
  },
  {
   "cell_type": "code",
   "execution_count": 185,
   "metadata": {},
   "outputs": [
    {
     "data": {
      "image/png": "[encoded data removed]",
      "text/plain": [
       "<Figure size 432x288 with 1 Axes>"
      ]
     },
     "metadata": {
      "needs_background": "light"
     },
     "output_type": "display_data"
    }
   ],
   "source": [
    "sns.distplot(all_mse_scores)\n",
    "plt.title(\"PDF of mean squared error\")\n",
    "plt.show()"
   ]
  },
  {
   "cell_type": "markdown",
   "metadata": {},
   "source": [
    "### Confidence interval of mse"
   ]
  },
  {
   "cell_type": "code",
   "execution_count": 189,
   "metadata": {},
   "outputs": [],
   "source": [
    "all_mse_scores = np.array(all_mse_scores)\n",
    "\n",
    "mean_mse = all_mse_scores.mean()\n",
    "std_mse = np.std(all_mse_scores)"
   ]
  },
  {
   "cell_type": "code",
   "execution_count": 191,
   "metadata": {},
   "outputs": [
    {
     "data": {
      "text/plain": [
       "0.3136380494866435"
      ]
     },
     "execution_count": 191,
     "metadata": {},
     "output_type": "execute_result"
    }
   ],
   "source": [
    "std_mse"
   ]
  },
  {
   "cell_type": "code",
   "execution_count": 192,
   "metadata": {},
   "outputs": [],
   "source": [
    "confidence_interval = (mean_mse + (std_mse/np.sqrt(35)* st.norm.ppf(0.025)) , mean_mse + (std_mse/np.sqrt(35)* st.norm.ppf(0.975)))"
   ]
  },
  {
   "cell_type": "code",
   "execution_count": 193,
   "metadata": {},
   "outputs": [
    {
     "data": {
      "text/plain": [
       "(1.5689117560061812, 1.7767248023857356)"
      ]
     },
     "execution_count": 193,
     "metadata": {},
     "output_type": "execute_result"
    }
   ],
   "source": [
    "confidence_interval"
   ]
  },
  {
   "cell_type": "code",
   "execution_count": 194,
   "metadata": {},
   "outputs": [
    {
     "data": {
      "image/png": "[encoded data removed]",
      "text/plain": [
       "<Figure size 432x288 with 1 Axes>"
      ]
     },
     "metadata": {
      "needs_background": "light"
     },
     "output_type": "display_data"
    }
   ],
   "source": [
    "sns.distplot(all_oob_scores)\n",
    "plt.title(\"PDF of oob scores\")\n",
    "plt.show()"
   ]
  },
  {
   "cell_type": "markdown",
   "metadata": {},
   "source": [
    "### Confidence interval of oob_score"
   ]
  },
  {
   "cell_type": "code",
   "execution_count": 195,
   "metadata": {},
   "outputs": [],
   "source": [
    "all_oob_scores = np.array(all_oob_scores)\n",
    "mean_oob_score = all_oob_scores.mean()\n",
    "std_oob_score = np.std(all_oob_scores)"
   ]
  },
  {
   "cell_type": "code",
   "execution_count": 196,
   "metadata": {},
   "outputs": [],
   "source": [
    "confidence_interval_oob = (mean_oob_score + (std_oob_score/np.sqrt(35)* st.norm.ppf(0.025)) , mean_oob_score + (std_oob_score/np.sqrt(35)* st.norm.ppf(0.975)))"
   ]
  },
  {
   "cell_type": "code",
   "execution_count": 197,
   "metadata": {},
   "outputs": [
    {
     "data": {
      "text/plain": [
       "(8.787763618313212, 9.457115540829806)"
      ]
     },
     "execution_count": 197,
     "metadata": {},
     "output_type": "execute_result"
    }
   ],
   "source": [
    "confidence_interval_oob"
   ]
  },
  {
   "cell_type": "code",
   "execution_count": 202,
   "metadata": {},
   "outputs": [
    {
     "name": "stdout",
     "output_type": "stream",
     "text": [
      "+------------------------------------------+----------------------------------------+\n",
      "|         Confidence interval mse          |    Confidence interval of oob score    |\n",
      "+------------------------------------------+----------------------------------------+\n",
      "| (1.5689117560061812, 1.7767248023857356) | (8.787763618313212, 9.457115540829806) |\n",
      "+------------------------------------------+----------------------------------------+\n"
     ]
    }
   ],
   "source": [
    "x = PrettyTable()\n",
    "\n",
    "x.field_names = [\"Confidence interval mse\", \"Confidence interval of oob score\"]\n",
    "\n",
    "x.add_row([confidence_interval, confidence_interval_oob])\n",
    "\n",
    "print(x)"
   ]
  },
  {
   "cell_type": "markdown",
   "metadata": {},
   "source": [
    "# Task 3"
   ]
  },
  {
   "cell_type": "code",
   "execution_count": 14,
   "metadata": {},
   "outputs": [],
   "source": [
    " "
   ]
  },
  {
   "cell_type": "code",
   "execution_count": null,
   "metadata": {},
   "outputs": [],
   "source": [
    "clf = DecisionTreeRegressor                                             "
   ]
  },
  {
   "cell_type": "code",
   "execution_count": null,
   "metadata": {},
   "outputs": [],
   "source": []
  },
  {
   "cell_type": "code",
   "execution_count": 203,
   "metadata": {},
   "outputs": [],
   "source": [
    "matrix = np.random.random_sample()"
   ]
  },
  {
   "cell_type": "code",
   "execution_count": null,
   "metadata": {},
   "outputs": [],
   "source": []
  },
  {
   "cell_type": "code",
   "execution_count": null,
   "metadata": {},
   "outputs": [],
   "source": []
  },
  {
   "cell_type": "code",
   "execution_count": null,
   "metadata": {},
   "outputs": [],
   "source": []
  },
  {
   "cell_type": "code",
   "execution_count": null,
   "metadata": {},
   "outputs": [],
   "source": []
  },
  {
   "cell_type": "code",
   "execution_count": null,
   "metadata": {},
   "outputs": [],
   "source": []
  },
  {
   "cell_type": "code",
   "execution_count": null,
   "metadata": {},
   "outputs": [],
   "source": []
  },
  {
   "cell_type": "code",
   "execution_count": null,
   "metadata": {},
   "outputs": [],
   "source": []
  }
 ],
 "metadata": {
  "kernelspec": {
   "display_name": "Python 3",
   "language": "python",
   "name": "python3"
  },
  "language_info": {
   "codemirror_mode": {
    "name": "ipython",
    "version": 3
   },
   "file_extension": ".py",
   "mimetype": "text/x-python",
   "name": "python",
   "nbconvert_exporter": "python",
   "pygments_lexer": "ipython3",
   "version": "3.7.3"
  }
 },
 "nbformat": 4,
 "nbformat_minor": 2
}
